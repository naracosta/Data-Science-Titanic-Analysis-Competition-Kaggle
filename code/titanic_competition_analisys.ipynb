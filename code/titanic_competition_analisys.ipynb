{
 "cells": [
  {
   "cell_type": "code",
   "execution_count": 1,
   "metadata": {
    "_cell_guid": "b1076dfc-b9ad-4769-8c92-a6c4dae69d19",
    "_uuid": "8f2839f25d086af736a60e9eeb907d3b93b6e0e5",
    "execution": {
     "iopub.execute_input": "2022-06-23T19:33:03.208890Z",
     "iopub.status.busy": "2022-06-23T19:33:03.208443Z",
     "iopub.status.idle": "2022-06-23T19:33:03.217855Z",
     "shell.execute_reply": "2022-06-23T19:33:03.216775Z",
     "shell.execute_reply.started": "2022-06-23T19:33:03.208859Z"
    }
   },
   "outputs": [],
   "source": [
    "import numpy as np \n",
    "import pandas as pd \n",
    "from matplotlib import pyplot as plt\n",
    "from sklearn.metrics import accuracy_score\n",
    "from sklearn.tree import DecisionTreeClassifier\n",
    "from sklearn.metrics import f1_score\n",
    "from sklearn.linear_model import LinearRegression, LogisticRegression\n",
    "from sklearn.tree import DecisionTreeClassifier, plot_tree\n",
    "from sklearn.naive_bayes import GaussianNB \n",
    "from sklearn.neural_network import MLPClassifier"
   ]
  },
  {
   "cell_type": "code",
   "execution_count": 6,
   "metadata": {
    "execution": {
     "iopub.execute_input": "2022-06-23T19:33:03.220606Z",
     "iopub.status.busy": "2022-06-23T19:33:03.219584Z",
     "iopub.status.idle": "2022-06-23T19:33:03.262280Z",
     "shell.execute_reply": "2022-06-23T19:33:03.261164Z",
     "shell.execute_reply.started": "2022-06-23T19:33:03.220555Z"
    }
   },
   "outputs": [],
   "source": [
    "train = pd.read_csv('train.csv')\n",
    "test = pd.read_csv('test.csv')\n",
    "test_y = pd.read_csv('gender_submission.csv')"
   ]
  },
  {
   "cell_type": "code",
   "execution_count": 7,
   "metadata": {
    "execution": {
     "iopub.execute_input": "2022-06-23T19:33:03.391192Z",
     "iopub.status.busy": "2022-06-23T19:33:03.390192Z",
     "iopub.status.idle": "2022-06-23T19:33:03.407366Z",
     "shell.execute_reply": "2022-06-23T19:33:03.406250Z",
     "shell.execute_reply.started": "2022-06-23T19:33:03.391149Z"
    }
   },
   "outputs": [
    {
     "data": {
      "text/plain": [
       "Survived    418\n",
       "dtype: int64"
      ]
     },
     "execution_count": 7,
     "metadata": {},
     "output_type": "execute_result"
    }
   ],
   "source": [
    "test_y = test_y.loc[test_y['PassengerId'] > 891]\n",
    "test_columns = ['Survived'] \n",
    "test_y_new = test_y.filter(items=test_columns)\n",
    "test_y_new.count()"
   ]
  },
  {
   "cell_type": "code",
   "execution_count": 8,
   "metadata": {
    "execution": {
     "iopub.execute_input": "2022-06-23T19:33:03.409020Z",
     "iopub.status.busy": "2022-06-23T19:33:03.408468Z",
     "iopub.status.idle": "2022-06-23T19:33:03.423399Z",
     "shell.execute_reply": "2022-06-23T19:33:03.422441Z",
     "shell.execute_reply.started": "2022-06-23T19:33:03.408982Z"
    }
   },
   "outputs": [
    {
     "data": {
      "text/plain": [
       "PassengerId    418\n",
       "Pclass         418\n",
       "Name           418\n",
       "Sex            418\n",
       "Age            418\n",
       "SibSp          418\n",
       "Parch          418\n",
       "Ticket         418\n",
       "Fare           418\n",
       "Cabin           91\n",
       "Embarked       418\n",
       "dtype: int64"
      ]
     },
     "execution_count": 8,
     "metadata": {},
     "output_type": "execute_result"
    }
   ],
   "source": [
    "train['Age'] = train['Age'].fillna(train['Age'].mean())\n",
    "test['Age'] = test['Age'].fillna(test['Age'].mean())\n",
    "test['Fare'] = test['Fare'].fillna(0)\n",
    "test.count()"
   ]
  },
  {
   "cell_type": "code",
   "execution_count": 9,
   "metadata": {
    "execution": {
     "iopub.execute_input": "2022-06-23T19:33:03.426113Z",
     "iopub.status.busy": "2022-06-23T19:33:03.424675Z",
     "iopub.status.idle": "2022-06-23T19:33:03.440276Z",
     "shell.execute_reply": "2022-06-23T19:33:03.438988Z",
     "shell.execute_reply.started": "2022-06-23T19:33:03.426068Z"
    }
   },
   "outputs": [
    {
     "data": {
      "text/plain": [
       "PassengerId    418\n",
       "Sex            418\n",
       "Pclass         418\n",
       "Age            418\n",
       "Fare           418\n",
       "dtype: int64"
      ]
     },
     "execution_count": 9,
     "metadata": {},
     "output_type": "execute_result"
    }
   ],
   "source": [
    "train_columns = ['PassengerId','Sex','Pclass', 'Age', 'Fare', 'Embarked', 'Parch', 'SibSp'] \n",
    "train_x_new = train.filter(items=train_columns)\n",
    "train_y_new = train['Survived']\n",
    "\n",
    "test_columns = ['PassengerId','Sex','Pclass',  'Age', 'Fare', 'Embarked', 'Parch', 'SibSp'] \n",
    "test_x_new = test.filter(items=test_columns)\n",
    "\n",
    "test_x_new.count()"
   ]
  },
  {
   "cell_type": "markdown",
   "metadata": {},
   "source": []
  },
  {
   "cell_type": "code",
   "execution_count": 10,
   "metadata": {
    "execution": {
     "iopub.execute_input": "2022-06-23T19:33:03.442980Z",
     "iopub.status.busy": "2022-06-23T19:33:03.442590Z",
     "iopub.status.idle": "2022-06-23T19:33:03.464843Z",
     "shell.execute_reply": "2022-06-23T19:33:03.463757Z",
     "shell.execute_reply.started": "2022-06-23T19:33:03.442947Z"
    }
   },
   "outputs": [
    {
     "data": {
      "text/html": [
       "<div>\n",
       "<style scoped>\n",
       "    .dataframe tbody tr th:only-of-type {\n",
       "        vertical-align: middle;\n",
       "    }\n",
       "\n",
       "    .dataframe tbody tr th {\n",
       "        vertical-align: top;\n",
       "    }\n",
       "\n",
       "    .dataframe thead th {\n",
       "        text-align: right;\n",
       "    }\n",
       "</style>\n",
       "<table border=\"1\" class=\"dataframe\">\n",
       "  <thead>\n",
       "    <tr style=\"text-align: right;\">\n",
       "      <th></th>\n",
       "      <th>PassengerId</th>\n",
       "      <th>Pclass</th>\n",
       "      <th>Age</th>\n",
       "      <th>Fare</th>\n",
       "      <th>Sex_male</th>\n",
       "    </tr>\n",
       "  </thead>\n",
       "  <tbody>\n",
       "    <tr>\n",
       "      <th>0</th>\n",
       "      <td>892</td>\n",
       "      <td>3</td>\n",
       "      <td>34.5</td>\n",
       "      <td>7.8292</td>\n",
       "      <td>1</td>\n",
       "    </tr>\n",
       "    <tr>\n",
       "      <th>1</th>\n",
       "      <td>893</td>\n",
       "      <td>3</td>\n",
       "      <td>47.0</td>\n",
       "      <td>7.0000</td>\n",
       "      <td>0</td>\n",
       "    </tr>\n",
       "    <tr>\n",
       "      <th>2</th>\n",
       "      <td>894</td>\n",
       "      <td>2</td>\n",
       "      <td>62.0</td>\n",
       "      <td>9.6875</td>\n",
       "      <td>1</td>\n",
       "    </tr>\n",
       "  </tbody>\n",
       "</table>\n",
       "</div>"
      ],
      "text/plain": [
       "   PassengerId  Pclass   Age    Fare  Sex_male\n",
       "0          892       3  34.5  7.8292         1\n",
       "1          893       3  47.0  7.0000         0\n",
       "2          894       2  62.0  9.6875         1"
      ]
     },
     "execution_count": 10,
     "metadata": {},
     "output_type": "execute_result"
    }
   ],
   "source": [
    "train_dummies = pd.get_dummies(train_x_new,drop_first=True)\n",
    "test_dummies = pd.get_dummies(test_x_new,drop_first=True)\n",
    "test_dummies.head(3)"
   ]
  },
  {
   "cell_type": "code",
   "execution_count": 11,
   "metadata": {
    "execution": {
     "iopub.execute_input": "2022-06-23T19:33:03.472170Z",
     "iopub.status.busy": "2022-06-23T19:33:03.471682Z",
     "iopub.status.idle": "2022-06-23T19:33:03.492314Z",
     "shell.execute_reply": "2022-06-23T19:33:03.491402Z",
     "shell.execute_reply.started": "2022-06-23T19:33:03.472134Z"
    },
    "scrolled": false
   },
   "outputs": [
    {
     "data": {
      "text/plain": [
       "PassengerId    418\n",
       "Pclass         418\n",
       "Age            418\n",
       "Fare           418\n",
       "Sex_male       418\n",
       "male_fare      418\n",
       "dtype: int64"
      ]
     },
     "execution_count": 11,
     "metadata": {},
     "output_type": "execute_result"
    }
   ],
   "source": [
    "train_dummies['male_fare'] = 0\n",
    "train_dummies.loc[(train_dummies['Fare'] < 20) & (train_dummies['Sex_male'] == 1), 'male_fare'] = 1\n",
    "test_dummies['male_fare'] = 0\n",
    "test_dummies.loc[(test_dummies['Fare'] < 20) & (test_dummies['Sex_male'] == 1), 'male_fare'] = 1\n",
    "test_dummies.count()"
   ]
  },
  {
   "cell_type": "code",
   "execution_count": 12,
   "metadata": {
    "execution": {
     "iopub.execute_input": "2022-06-23T19:33:03.509262Z",
     "iopub.status.busy": "2022-06-23T19:33:03.508422Z",
     "iopub.status.idle": "2022-06-23T19:33:03.528433Z",
     "shell.execute_reply": "2022-06-23T19:33:03.527347Z",
     "shell.execute_reply.started": "2022-06-23T19:33:03.509179Z"
    }
   },
   "outputs": [
    {
     "data": {
      "text/plain": [
       "1    553\n",
       "0    338\n",
       "Name: male_age, dtype: int64"
      ]
     },
     "execution_count": 12,
     "metadata": {},
     "output_type": "execute_result"
    }
   ],
   "source": [
    "train_dummies['male_age'] = 0\n",
    "train_dummies.loc[(train_dummies['Age'] > 6) & (train_dummies['Sex_male'] == 1), 'male_age'] = 1\n",
    "test_dummies['male_age'] = 0\n",
    "test_dummies.loc[(test_dummies['Age'] > 6) & (test_dummies['Sex_male'] == 1), 'male_age'] = 1\n",
    "test_dummies.count()\n",
    "train_dummies['male_age'].value_counts()"
   ]
  },
  {
   "cell_type": "code",
   "execution_count": 13,
   "metadata": {
    "execution": {
     "iopub.execute_input": "2022-06-23T19:33:03.544179Z",
     "iopub.status.busy": "2022-06-23T19:33:03.543444Z",
     "iopub.status.idle": "2022-06-23T19:33:03.549631Z",
     "shell.execute_reply": "2022-06-23T19:33:03.548337Z",
     "shell.execute_reply.started": "2022-06-23T19:33:03.544130Z"
    }
   },
   "outputs": [],
   "source": [
    "# train_dummies['male_Pclass'] = 0\n",
    "# train_dummies.loc[(train_dummies['Pclass'] <= 2.5) & (train_dummies['male_age'] == 0), 'male_Pclass'] = 1\n",
    "# test_dummies['male_Pclass'] = 0\n",
    "# test_dummies.loc[(test_dummies['Age'] > 6) & (test_dummies['male_age'] == 0), 'male_Pclass'] = 1\n",
    "# test_dummies.count()"
   ]
  },
  {
   "cell_type": "markdown",
   "metadata": {},
   "source": [
    "## Split Model"
   ]
  },
  {
   "cell_type": "code",
   "execution_count": null,
   "metadata": {},
   "outputs": [],
   "source": []
  },
  {
   "cell_type": "markdown",
   "metadata": {},
   "source": [
    "## Decision Tree **"
   ]
  },
  {
   "cell_type": "code",
   "execution_count": 14,
   "metadata": {
    "execution": {
     "iopub.execute_input": "2022-06-23T19:33:03.556181Z",
     "iopub.status.busy": "2022-06-23T19:33:03.555709Z",
     "iopub.status.idle": "2022-06-23T19:33:03.572554Z",
     "shell.execute_reply": "2022-06-23T19:33:03.571821Z",
     "shell.execute_reply.started": "2022-06-23T19:33:03.556145Z"
    }
   },
   "outputs": [
    {
     "name": "stdout",
     "output_type": "stream",
     "text": [
      "0.8229665071770335\n",
      "0.6837606837606838\n"
     ]
    }
   ],
   "source": [
    "clf_dec = DecisionTreeClassifier(max_depth=2, min_samples_leaf=20, min_samples_split=0.2)\n",
    "# clf_dec = DecisionTreeClassifier()\n",
    "clf_dec.fit(train_dummies, train_y_new)\n",
    "print(clf_dec.score(test_dummies, test_y_new))\n",
    "print(f1_score(test_y_new, clf_dec.predict(test_dummies)))"
   ]
  },
  {
   "cell_type": "code",
   "execution_count": 15,
   "metadata": {
    "execution": {
     "iopub.execute_input": "2022-06-23T19:33:03.624945Z",
     "iopub.status.busy": "2022-06-23T19:33:03.623776Z",
     "iopub.status.idle": "2022-06-23T19:33:03.637052Z",
     "shell.execute_reply": "2022-06-23T19:33:03.635833Z",
     "shell.execute_reply.started": "2022-06-23T19:33:03.624896Z"
    }
   },
   "outputs": [
    {
     "data": {
      "text/html": [
       "<div>\n",
       "<style scoped>\n",
       "    .dataframe tbody tr th:only-of-type {\n",
       "        vertical-align: middle;\n",
       "    }\n",
       "\n",
       "    .dataframe tbody tr th {\n",
       "        vertical-align: top;\n",
       "    }\n",
       "\n",
       "    .dataframe thead th {\n",
       "        text-align: right;\n",
       "    }\n",
       "</style>\n",
       "<table border=\"1\" class=\"dataframe\">\n",
       "  <thead>\n",
       "    <tr style=\"text-align: right;\">\n",
       "      <th></th>\n",
       "      <th>Importance</th>\n",
       "    </tr>\n",
       "  </thead>\n",
       "  <tbody>\n",
       "    <tr>\n",
       "      <th>PassengerId</th>\n",
       "      <td>0.000000</td>\n",
       "    </tr>\n",
       "    <tr>\n",
       "      <th>Age</th>\n",
       "      <td>0.000000</td>\n",
       "    </tr>\n",
       "    <tr>\n",
       "      <th>Fare</th>\n",
       "      <td>0.000000</td>\n",
       "    </tr>\n",
       "    <tr>\n",
       "      <th>Sex_male</th>\n",
       "      <td>0.000000</td>\n",
       "    </tr>\n",
       "    <tr>\n",
       "      <th>male_fare</th>\n",
       "      <td>0.000000</td>\n",
       "    </tr>\n",
       "    <tr>\n",
       "      <th>Pclass</th>\n",
       "      <td>0.253817</td>\n",
       "    </tr>\n",
       "    <tr>\n",
       "      <th>male_age</th>\n",
       "      <td>0.746183</td>\n",
       "    </tr>\n",
       "  </tbody>\n",
       "</table>\n",
       "</div>"
      ],
      "text/plain": [
       "             Importance\n",
       "PassengerId    0.000000\n",
       "Age            0.000000\n",
       "Fare           0.000000\n",
       "Sex_male       0.000000\n",
       "male_fare      0.000000\n",
       "Pclass         0.253817\n",
       "male_age       0.746183"
      ]
     },
     "execution_count": 15,
     "metadata": {},
     "output_type": "execute_result"
    }
   ],
   "source": [
    "pd.Series(\n",
    "    clf_dec.feature_importances_,\n",
    "    clf_dec.feature_names_in_\n",
    ").sort_values().to_frame(\"Importance\")"
   ]
  },
  {
   "cell_type": "code",
   "execution_count": 16,
   "metadata": {
    "execution": {
     "iopub.execute_input": "2022-06-23T19:33:03.678755Z",
     "iopub.status.busy": "2022-06-23T19:33:03.678274Z",
     "iopub.status.idle": "2022-06-23T19:33:03.683680Z",
     "shell.execute_reply": "2022-06-23T19:33:03.682270Z",
     "shell.execute_reply.started": "2022-06-23T19:33:03.678696Z"
    }
   },
   "outputs": [],
   "source": [
    "# plt.figure(figsize=(40,40))\n",
    "# plot_tree(clf_dec, feature_names=train_dummies.columns, proportion=True, filled=True)\n",
    "# plt.show()"
   ]
  },
  {
   "cell_type": "markdown",
   "metadata": {},
   "source": [
    "## Linear Regression"
   ]
  },
  {
   "cell_type": "code",
   "execution_count": 17,
   "metadata": {
    "execution": {
     "iopub.execute_input": "2022-06-23T19:33:03.695086Z",
     "iopub.status.busy": "2022-06-23T19:33:03.693540Z",
     "iopub.status.idle": "2022-06-23T19:33:03.733686Z",
     "shell.execute_reply": "2022-06-23T19:33:03.732478Z",
     "shell.execute_reply.started": "2022-06-23T19:33:03.695027Z"
    }
   },
   "outputs": [
    {
     "name": "stdout",
     "output_type": "stream",
     "text": [
      "0.9760765550239234\n",
      "0.967948717948718\n"
     ]
    }
   ],
   "source": [
    "clf_ln = LogisticRegression()\n",
    "clf_ln.fit(train_dummies, train_y_new)\n",
    "print(clf_ln.score(test_dummies, test_y_new))\n",
    "print(f1_score(test_y_new, clf_ln.predict(test_dummies)))"
   ]
  },
  {
   "cell_type": "markdown",
   "metadata": {},
   "source": [
    "## Naive Bayes"
   ]
  },
  {
   "cell_type": "code",
   "execution_count": 18,
   "metadata": {
    "execution": {
     "iopub.execute_input": "2022-06-23T19:33:03.763216Z",
     "iopub.status.busy": "2022-06-23T19:33:03.761544Z",
     "iopub.status.idle": "2022-06-23T19:33:03.781631Z",
     "shell.execute_reply": "2022-06-23T19:33:03.780238Z",
     "shell.execute_reply.started": "2022-06-23T19:33:03.763154Z"
    }
   },
   "outputs": [
    {
     "name": "stdout",
     "output_type": "stream",
     "text": [
      "0.9593301435406698\n",
      "0.9470404984423676\n"
     ]
    }
   ],
   "source": [
    "clf_gnb = GaussianNB()\n",
    "clf_gnb.fit(train_dummies, train_y_new)\n",
    "print(clf_gnb.score(test_dummies, test_y_new)) \n",
    "print(f1_score(test_y_new, clf_gnb.predict(test_dummies)))"
   ]
  },
  {
   "cell_type": "markdown",
   "metadata": {},
   "source": [
    "## Redes Neurais"
   ]
  },
  {
   "cell_type": "code",
   "execution_count": 19,
   "metadata": {
    "execution": {
     "iopub.execute_input": "2022-06-23T19:46:18.978605Z",
     "iopub.status.busy": "2022-06-23T19:46:18.978167Z",
     "iopub.status.idle": "2022-06-23T19:46:19.628935Z",
     "shell.execute_reply": "2022-06-23T19:46:19.627938Z",
     "shell.execute_reply.started": "2022-06-23T19:46:18.978572Z"
    }
   },
   "outputs": [
    {
     "name": "stdout",
     "output_type": "stream",
     "text": [
      "Iteration 1, loss = 7.64651827\n",
      "Iteration 2, loss = 1.98807717\n",
      "Iteration 3, loss = 2.48293435\n",
      "Iteration 4, loss = 1.43799862\n",
      "Iteration 5, loss = 1.51868138\n",
      "Iteration 6, loss = 0.98524689\n",
      "Iteration 7, loss = 0.83234046\n",
      "Iteration 8, loss = 0.79128906\n",
      "Iteration 9, loss = 0.75611541\n",
      "Iteration 10, loss = 0.70945105\n",
      "Iteration 11, loss = 0.66577053\n",
      "Iteration 12, loss = 0.61255138\n",
      "Iteration 13, loss = 0.61352561\n",
      "Iteration 14, loss = 0.60107198\n",
      "Iteration 15, loss = 0.59239422\n",
      "Iteration 16, loss = 0.59012124\n",
      "Iteration 17, loss = 0.58399745\n",
      "Iteration 18, loss = 0.57946154\n",
      "Iteration 19, loss = 0.58026988\n",
      "Iteration 20, loss = 0.57335002\n",
      "Iteration 21, loss = 0.56300024\n",
      "Iteration 22, loss = 0.56574256\n",
      "Iteration 23, loss = 0.56115668\n",
      "Iteration 24, loss = 0.55090933\n",
      "Iteration 25, loss = 0.54830663\n",
      "Iteration 26, loss = 0.54232400\n",
      "Iteration 27, loss = 0.53633222\n",
      "Iteration 28, loss = 0.53682554\n",
      "Iteration 29, loss = 0.53140772\n",
      "Iteration 30, loss = 0.53492513\n",
      "Iteration 31, loss = 0.52835203\n",
      "Iteration 32, loss = 0.53928800\n",
      "Iteration 33, loss = 0.53850729\n",
      "Iteration 34, loss = 0.54320904\n",
      "Iteration 35, loss = 0.53183107\n",
      "Iteration 36, loss = 0.57252522\n",
      "Iteration 37, loss = 0.52837154\n",
      "Iteration 38, loss = 0.51007613\n",
      "Iteration 39, loss = 0.51268315\n",
      "Iteration 40, loss = 0.50856975\n",
      "Iteration 41, loss = 0.51012344\n",
      "Iteration 42, loss = 0.50261556\n",
      "Iteration 43, loss = 0.50602656\n",
      "Iteration 44, loss = 0.50742025\n",
      "Iteration 45, loss = 0.50384575\n",
      "Iteration 46, loss = 0.50871775\n",
      "Iteration 47, loss = 0.50210531\n",
      "Iteration 48, loss = 0.50955339\n",
      "Iteration 49, loss = 0.49763004\n",
      "Iteration 50, loss = 0.49171065\n",
      "Iteration 51, loss = 0.49121935\n",
      "Iteration 52, loss = 0.48900770\n",
      "Iteration 53, loss = 0.48931747\n",
      "Iteration 54, loss = 0.48761054\n",
      "Iteration 55, loss = 0.49809957\n",
      "Iteration 56, loss = 0.49023534\n",
      "Iteration 57, loss = 0.48867130\n",
      "Iteration 58, loss = 0.48481261\n",
      "Iteration 59, loss = 0.48833242\n",
      "Iteration 60, loss = 0.49820127\n",
      "Iteration 61, loss = 0.49772597\n",
      "Iteration 62, loss = 0.48011371\n",
      "Iteration 63, loss = 0.48203227\n",
      "Iteration 64, loss = 0.48922905\n",
      "Iteration 65, loss = 0.48364646\n",
      "Iteration 66, loss = 0.48557871\n",
      "Iteration 67, loss = 0.48948963\n",
      "Iteration 68, loss = 0.48001374\n",
      "Iteration 69, loss = 0.47695607\n",
      "Iteration 70, loss = 0.47956828\n",
      "Iteration 71, loss = 0.47443377\n",
      "Iteration 72, loss = 0.48108194\n",
      "Iteration 73, loss = 0.49017571\n",
      "Iteration 74, loss = 0.48025085\n",
      "Iteration 75, loss = 0.47921567\n",
      "Iteration 76, loss = 0.48492960\n",
      "Iteration 77, loss = 0.48528033\n",
      "Iteration 78, loss = 0.49523039\n",
      "Iteration 79, loss = 0.48865156\n",
      "Iteration 80, loss = 0.49193267\n",
      "Iteration 81, loss = 0.47469482\n",
      "Iteration 82, loss = 0.47815181\n",
      "Training loss did not improve more than tol=0.000010 for 10 consecutive epochs. Stopping.\n"
     ]
    },
    {
     "data": {
      "text/html": [
       "<style>#sk-container-id-1 {color: black;background-color: white;}#sk-container-id-1 pre{padding: 0;}#sk-container-id-1 div.sk-toggleable {background-color: white;}#sk-container-id-1 label.sk-toggleable__label {cursor: pointer;display: block;width: 100%;margin-bottom: 0;padding: 0.3em;box-sizing: border-box;text-align: center;}#sk-container-id-1 label.sk-toggleable__label-arrow:before {content: \"▸\";float: left;margin-right: 0.25em;color: #696969;}#sk-container-id-1 label.sk-toggleable__label-arrow:hover:before {color: black;}#sk-container-id-1 div.sk-estimator:hover label.sk-toggleable__label-arrow:before {color: black;}#sk-container-id-1 div.sk-toggleable__content {max-height: 0;max-width: 0;overflow: hidden;text-align: left;background-color: #f0f8ff;}#sk-container-id-1 div.sk-toggleable__content pre {margin: 0.2em;color: black;border-radius: 0.25em;background-color: #f0f8ff;}#sk-container-id-1 input.sk-toggleable__control:checked~div.sk-toggleable__content {max-height: 200px;max-width: 100%;overflow: auto;}#sk-container-id-1 input.sk-toggleable__control:checked~label.sk-toggleable__label-arrow:before {content: \"▾\";}#sk-container-id-1 div.sk-estimator input.sk-toggleable__control:checked~label.sk-toggleable__label {background-color: #d4ebff;}#sk-container-id-1 div.sk-label input.sk-toggleable__control:checked~label.sk-toggleable__label {background-color: #d4ebff;}#sk-container-id-1 input.sk-hidden--visually {border: 0;clip: rect(1px 1px 1px 1px);clip: rect(1px, 1px, 1px, 1px);height: 1px;margin: -1px;overflow: hidden;padding: 0;position: absolute;width: 1px;}#sk-container-id-1 div.sk-estimator {font-family: monospace;background-color: #f0f8ff;border: 1px dotted black;border-radius: 0.25em;box-sizing: border-box;margin-bottom: 0.5em;}#sk-container-id-1 div.sk-estimator:hover {background-color: #d4ebff;}#sk-container-id-1 div.sk-parallel-item::after {content: \"\";width: 100%;border-bottom: 1px solid gray;flex-grow: 1;}#sk-container-id-1 div.sk-label:hover label.sk-toggleable__label {background-color: #d4ebff;}#sk-container-id-1 div.sk-serial::before {content: \"\";position: absolute;border-left: 1px solid gray;box-sizing: border-box;top: 0;bottom: 0;left: 50%;z-index: 0;}#sk-container-id-1 div.sk-serial {display: flex;flex-direction: column;align-items: center;background-color: white;padding-right: 0.2em;padding-left: 0.2em;position: relative;}#sk-container-id-1 div.sk-item {position: relative;z-index: 1;}#sk-container-id-1 div.sk-parallel {display: flex;align-items: stretch;justify-content: center;background-color: white;position: relative;}#sk-container-id-1 div.sk-item::before, #sk-container-id-1 div.sk-parallel-item::before {content: \"\";position: absolute;border-left: 1px solid gray;box-sizing: border-box;top: 0;bottom: 0;left: 50%;z-index: -1;}#sk-container-id-1 div.sk-parallel-item {display: flex;flex-direction: column;z-index: 1;position: relative;background-color: white;}#sk-container-id-1 div.sk-parallel-item:first-child::after {align-self: flex-end;width: 50%;}#sk-container-id-1 div.sk-parallel-item:last-child::after {align-self: flex-start;width: 50%;}#sk-container-id-1 div.sk-parallel-item:only-child::after {width: 0;}#sk-container-id-1 div.sk-dashed-wrapped {border: 1px dashed gray;margin: 0 0.4em 0.5em 0.4em;box-sizing: border-box;padding-bottom: 0.4em;background-color: white;}#sk-container-id-1 div.sk-label label {font-family: monospace;font-weight: bold;display: inline-block;line-height: 1.2em;}#sk-container-id-1 div.sk-label-container {text-align: center;}#sk-container-id-1 div.sk-container {/* jupyter's `normalize.less` sets `[hidden] { display: none; }` but bootstrap.min.css set `[hidden] { display: none !important; }` so we also need the `!important` here to be able to override the default hidden behavior on the sphinx rendered scikit-learn.org. See: https://github.com/scikit-learn/scikit-learn/issues/21755 */display: inline-block !important;position: relative;}#sk-container-id-1 div.sk-text-repr-fallback {display: none;}</style><div id=\"sk-container-id-1\" class=\"sk-top-container\"><div class=\"sk-text-repr-fallback\"><pre>MLPClassifier(max_iter=100, tol=1e-05, verbose=True)</pre><b>In a Jupyter environment, please rerun this cell to show the HTML representation or trust the notebook. <br />On GitHub, the HTML representation is unable to render, please try loading this page with nbviewer.org.</b></div><div class=\"sk-container\" hidden><div class=\"sk-item\"><div class=\"sk-estimator sk-toggleable\"><input class=\"sk-toggleable__control sk-hidden--visually\" id=\"sk-estimator-id-1\" type=\"checkbox\" checked><label for=\"sk-estimator-id-1\" class=\"sk-toggleable__label sk-toggleable__label-arrow\">MLPClassifier</label><div class=\"sk-toggleable__content\"><pre>MLPClassifier(max_iter=100, tol=1e-05, verbose=True)</pre></div></div></div></div></div>"
      ],
      "text/plain": [
       "MLPClassifier(max_iter=100, tol=1e-05, verbose=True)"
      ]
     },
     "execution_count": 19,
     "metadata": {},
     "output_type": "execute_result"
    }
   ],
   "source": [
    "clf_neural = MLPClassifier(max_iter=100, verbose=True, tol=0.0000100)\n",
    "clf_neural.fit(train_dummies, train_y_new)\n"
   ]
  },
  {
   "cell_type": "code",
   "execution_count": 20,
   "metadata": {
    "execution": {
     "iopub.execute_input": "2022-06-23T19:46:19.935874Z",
     "iopub.status.busy": "2022-06-23T19:46:19.935393Z",
     "iopub.status.idle": "2022-06-23T19:46:19.962375Z",
     "shell.execute_reply": "2022-06-23T19:46:19.961039Z",
     "shell.execute_reply.started": "2022-06-23T19:46:19.935838Z"
    }
   },
   "outputs": [
    {
     "name": "stdout",
     "output_type": "stream",
     "text": [
      "0.7631578947368421\n",
      "0.6024096385542168\n"
     ]
    }
   ],
   "source": [
    "print(clf_neural.score(test_dummies, test_y_new)) \n",
    "print(f1_score(test_y_new, clf_neural.predict(test_dummies)))"
   ]
  },
  {
   "cell_type": "markdown",
   "metadata": {},
   "source": [
    "## Final Transformations"
   ]
  },
  {
   "cell_type": "code",
   "execution_count": 21,
   "metadata": {
    "execution": {
     "iopub.execute_input": "2022-06-23T19:42:40.327317Z",
     "iopub.status.busy": "2022-06-23T19:42:40.326931Z",
     "iopub.status.idle": "2022-06-23T19:42:40.347917Z",
     "shell.execute_reply": "2022-06-23T19:42:40.346436Z",
     "shell.execute_reply.started": "2022-06-23T19:42:40.327286Z"
    }
   },
   "outputs": [
    {
     "data": {
      "text/html": [
       "<div>\n",
       "<style scoped>\n",
       "    .dataframe tbody tr th:only-of-type {\n",
       "        vertical-align: middle;\n",
       "    }\n",
       "\n",
       "    .dataframe tbody tr th {\n",
       "        vertical-align: top;\n",
       "    }\n",
       "\n",
       "    .dataframe thead th {\n",
       "        text-align: right;\n",
       "    }\n",
       "</style>\n",
       "<table border=\"1\" class=\"dataframe\">\n",
       "  <thead>\n",
       "    <tr style=\"text-align: right;\">\n",
       "      <th></th>\n",
       "      <th>PassengerId</th>\n",
       "      <th>Survived</th>\n",
       "    </tr>\n",
       "  </thead>\n",
       "  <tbody>\n",
       "    <tr>\n",
       "      <th>0</th>\n",
       "      <td>892</td>\n",
       "      <td>0</td>\n",
       "    </tr>\n",
       "    <tr>\n",
       "      <th>1</th>\n",
       "      <td>893</td>\n",
       "      <td>0</td>\n",
       "    </tr>\n",
       "    <tr>\n",
       "      <th>2</th>\n",
       "      <td>894</td>\n",
       "      <td>0</td>\n",
       "    </tr>\n",
       "    <tr>\n",
       "      <th>3</th>\n",
       "      <td>895</td>\n",
       "      <td>0</td>\n",
       "    </tr>\n",
       "    <tr>\n",
       "      <th>4</th>\n",
       "      <td>896</td>\n",
       "      <td>0</td>\n",
       "    </tr>\n",
       "  </tbody>\n",
       "</table>\n",
       "</div>"
      ],
      "text/plain": [
       "   PassengerId  Survived\n",
       "0          892         0\n",
       "1          893         0\n",
       "2          894         0\n",
       "3          895         0\n",
       "4          896         0"
      ]
     },
     "execution_count": 21,
     "metadata": {},
     "output_type": "execute_result"
    }
   ],
   "source": [
    "df_test = test_dummies.drop(columns=['Age','Pclass','Fare','male_age','Sex_male','male_fare'])\n",
    "df_test[\"Survived\"] = clf_neural.predict(test_dummies)\n",
    "df_test.head()"
   ]
  },
  {
   "cell_type": "code",
   "execution_count": null,
   "metadata": {
    "execution": {
     "iopub.execute_input": "2022-06-23T19:42:42.624024Z",
     "iopub.status.busy": "2022-06-23T19:42:42.623281Z",
     "iopub.status.idle": "2022-06-23T19:42:42.629785Z",
     "shell.execute_reply": "2022-06-23T19:42:42.628971Z",
     "shell.execute_reply.started": "2022-06-23T19:42:42.623991Z"
    }
   },
   "outputs": [],
   "source": [
    "df_test.to_csv(\"./submission.csv\", index = False)"
   ]
  },
  {
   "cell_type": "code",
   "execution_count": null,
   "metadata": {
    "execution": {
     "iopub.execute_input": "2022-06-23T19:33:04.392364Z",
     "iopub.status.busy": "2022-06-23T19:33:04.387477Z",
     "iopub.status.idle": "2022-06-23T19:33:04.399988Z",
     "shell.execute_reply": "2022-06-23T19:33:04.398667Z",
     "shell.execute_reply.started": "2022-06-23T19:33:04.392280Z"
    }
   },
   "outputs": [],
   "source": [
    "# testando = pd.read_csv('./submission.csv')\n",
    "# testando.head()"
   ]
  }
 ],
 "metadata": {
  "kernelspec": {
   "display_name": "Python 3 (ipykernel)",
   "language": "python",
   "name": "python3"
  },
  "language_info": {
   "codemirror_mode": {
    "name": "ipython",
    "version": 3
   },
   "file_extension": ".py",
   "mimetype": "text/x-python",
   "name": "python",
   "nbconvert_exporter": "python",
   "pygments_lexer": "ipython3",
   "version": "3.9.5"
  }
 },
 "nbformat": 4,
 "nbformat_minor": 4
}
