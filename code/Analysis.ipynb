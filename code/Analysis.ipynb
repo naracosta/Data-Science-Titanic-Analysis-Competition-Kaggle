{
 "cells": [
  {
   "cell_type": "code",
   "execution_count": 3,
   "id": "34d6f93a",
   "metadata": {},
   "outputs": [],
   "source": [
    "import numpy as np \n",
    "import pandas as pd \n",
    "import statsmodels.api as sm\n",
    "import sweetviz as sv\n",
    "\n",
    "from matplotlib import pyplot as plt\n",
    "from sklearn.metrics import accuracy_score\n",
    "from sklearn.tree import DecisionTreeClassifier\n",
    "from sklearn.metrics import f1_score\n",
    "from sklearn.linear_model import LinearRegression, LogisticRegression\n",
    "from sklearn.tree import DecisionTreeClassifier, plot_tree\n",
    "from sklearn.naive_bayes import GaussianNB \n",
    "from sklearn.neural_network import MLPClassifier"
   ]
  },
  {
   "cell_type": "markdown",
   "id": "ed2d0766",
   "metadata": {},
   "source": [
    "## Exploring Data\n",
    "\n",
    "| Variable | Definition |\n",
    "|----------|----------|\n",
    "|Survived|Survival/ 0 = No, 1 = Yes|\n",
    "|Pclass\t|Ticket class/ 1 = 1st, 2 = 2nd, 3 = 3rd|\n",
    "|Sex\t|Sex|\n",
    "|Age\t|Age in years|\n",
    "|Sibsp\t|# of siblings / spouses aboard the Titanic|\n",
    "|Parch\t|# of parents / children aboard the Titanic|\n",
    "|Ticket\t|Ticket number|\n",
    "|Embarked|Port of Embarkation/ C = Cherbourg, Q = Queenstown, S = Southampton|\n"
   ]
  },
  {
   "cell_type": "code",
   "execution_count": 28,
   "id": "b4b8fb5f",
   "metadata": {},
   "outputs": [
    {
     "data": {
      "text/html": [
       "<div>\n",
       "<style scoped>\n",
       "    .dataframe tbody tr th:only-of-type {\n",
       "        vertical-align: middle;\n",
       "    }\n",
       "\n",
       "    .dataframe tbody tr th {\n",
       "        vertical-align: top;\n",
       "    }\n",
       "\n",
       "    .dataframe thead th {\n",
       "        text-align: right;\n",
       "    }\n",
       "</style>\n",
       "<table border=\"1\" class=\"dataframe\">\n",
       "  <thead>\n",
       "    <tr style=\"text-align: right;\">\n",
       "      <th></th>\n",
       "      <th>PassengerId</th>\n",
       "      <th>Survived</th>\n",
       "    </tr>\n",
       "  </thead>\n",
       "  <tbody>\n",
       "    <tr>\n",
       "      <th>0</th>\n",
       "      <td>892</td>\n",
       "      <td>0</td>\n",
       "    </tr>\n",
       "    <tr>\n",
       "      <th>1</th>\n",
       "      <td>893</td>\n",
       "      <td>1</td>\n",
       "    </tr>\n",
       "    <tr>\n",
       "      <th>2</th>\n",
       "      <td>894</td>\n",
       "      <td>0</td>\n",
       "    </tr>\n",
       "    <tr>\n",
       "      <th>3</th>\n",
       "      <td>895</td>\n",
       "      <td>0</td>\n",
       "    </tr>\n",
       "    <tr>\n",
       "      <th>4</th>\n",
       "      <td>896</td>\n",
       "      <td>1</td>\n",
       "    </tr>\n",
       "    <tr>\n",
       "      <th>...</th>\n",
       "      <td>...</td>\n",
       "      <td>...</td>\n",
       "    </tr>\n",
       "    <tr>\n",
       "      <th>413</th>\n",
       "      <td>1305</td>\n",
       "      <td>0</td>\n",
       "    </tr>\n",
       "    <tr>\n",
       "      <th>414</th>\n",
       "      <td>1306</td>\n",
       "      <td>1</td>\n",
       "    </tr>\n",
       "    <tr>\n",
       "      <th>415</th>\n",
       "      <td>1307</td>\n",
       "      <td>0</td>\n",
       "    </tr>\n",
       "    <tr>\n",
       "      <th>416</th>\n",
       "      <td>1308</td>\n",
       "      <td>0</td>\n",
       "    </tr>\n",
       "    <tr>\n",
       "      <th>417</th>\n",
       "      <td>1309</td>\n",
       "      <td>0</td>\n",
       "    </tr>\n",
       "  </tbody>\n",
       "</table>\n",
       "<p>418 rows × 2 columns</p>\n",
       "</div>"
      ],
      "text/plain": [
       "     PassengerId  Survived\n",
       "0            892         0\n",
       "1            893         1\n",
       "2            894         0\n",
       "3            895         0\n",
       "4            896         1\n",
       "..           ...       ...\n",
       "413         1305         0\n",
       "414         1306         1\n",
       "415         1307         0\n",
       "416         1308         0\n",
       "417         1309         0\n",
       "\n",
       "[418 rows x 2 columns]"
      ]
     },
     "execution_count": 28,
     "metadata": {},
     "output_type": "execute_result"
    }
   ],
   "source": [
    "train = pd.read_csv('train.csv')\n",
    "test = pd.read_csv('test.csv')\n",
    "test_y = pd.read_csv('gender_submission.csv')\n",
    "test_y"
   ]
  },
  {
   "cell_type": "code",
   "execution_count": 29,
   "id": "4f1234a9",
   "metadata": {},
   "outputs": [
    {
     "data": {
      "text/plain": [
       "0    0\n",
       "1    1\n",
       "2    0\n",
       "Name: Survived, dtype: int64"
      ]
     },
     "execution_count": 29,
     "metadata": {},
     "output_type": "execute_result"
    }
   ],
   "source": [
    "test_y_new = test_y.loc[test_y['PassengerId'] > 891]\n",
    "test_y = test_y_new['Survived']\n",
    "test_y.head(3)"
   ]
  },
  {
   "cell_type": "markdown",
   "id": "5537d094",
   "metadata": {},
   "source": [
    "## Analyzing the Data"
   ]
  },
  {
   "cell_type": "code",
   "execution_count": 6,
   "id": "e5014e7f",
   "metadata": {},
   "outputs": [
    {
     "name": "stdout",
     "output_type": "stream",
     "text": [
      "<class 'pandas.core.frame.DataFrame'>\n",
      "RangeIndex: 891 entries, 0 to 890\n",
      "Data columns (total 12 columns):\n",
      " #   Column       Non-Null Count  Dtype  \n",
      "---  ------       --------------  -----  \n",
      " 0   PassengerId  891 non-null    int64  \n",
      " 1   Survived     891 non-null    int64  \n",
      " 2   Pclass       891 non-null    int64  \n",
      " 3   Name         891 non-null    object \n",
      " 4   Sex          891 non-null    object \n",
      " 5   Age          714 non-null    float64\n",
      " 6   SibSp        891 non-null    int64  \n",
      " 7   Parch        891 non-null    int64  \n",
      " 8   Ticket       891 non-null    object \n",
      " 9   Fare         891 non-null    float64\n",
      " 10  Cabin        204 non-null    object \n",
      " 11  Embarked     889 non-null    object \n",
      "dtypes: float64(2), int64(5), object(5)\n",
      "memory usage: 83.7+ KB\n"
     ]
    }
   ],
   "source": [
    "train.info()"
   ]
  },
  {
   "cell_type": "code",
   "execution_count": 7,
   "id": "99477f22",
   "metadata": {},
   "outputs": [
    {
     "name": "stdout",
     "output_type": "stream",
     "text": [
      "PassengerId    891\n",
      "Survived         2\n",
      "Pclass           3\n",
      "Name           891\n",
      "Sex              2\n",
      "Age             88\n",
      "SibSp            7\n",
      "Parch            7\n",
      "Ticket         681\n",
      "Fare           248\n",
      "Cabin          147\n",
      "Embarked         3\n",
      "dtype: int64\n"
     ]
    },
    {
     "data": {
      "text/plain": [
       "PassengerId      int64\n",
       "Survived         int64\n",
       "Pclass           int64\n",
       "Name            object\n",
       "Sex             object\n",
       "Age            float64\n",
       "SibSp            int64\n",
       "Parch            int64\n",
       "Ticket          object\n",
       "Fare           float64\n",
       "Cabin           object\n",
       "Embarked        object\n",
       "dtype: object"
      ]
     },
     "execution_count": 7,
     "metadata": {},
     "output_type": "execute_result"
    }
   ],
   "source": [
    "print(train.nunique())\n",
    "train.dtypes"
   ]
  },
  {
   "cell_type": "code",
   "execution_count": 48,
   "id": "5a674642",
   "metadata": {},
   "outputs": [],
   "source": [
    "# my_report = sv.analyze(df, target_feat = \"granted\")\n",
    "# my_report.show_html()"
   ]
  },
  {
   "cell_type": "markdown",
   "id": "fa585078",
   "metadata": {},
   "source": [
    "## Interactions"
   ]
  },
  {
   "cell_type": "code",
   "execution_count": 49,
   "id": "35eeb11b",
   "metadata": {},
   "outputs": [],
   "source": [
    "y_var = 'Survived'\n",
    "interac =train\n",
    "interac.drop(['Name', 'Cabin', 'Ticket'], inplace=True, axis=1)\n",
    "interac = pd.get_dummies(interac, drop_first=True)"
   ]
  },
  {
   "cell_type": "code",
   "execution_count": 50,
   "id": "391824b7",
   "metadata": {},
   "outputs": [],
   "source": [
    "import itertools\n",
    "for x in itertools.combinations(interac.columns.drop(y_var), 2):\n",
    "    interac[f'{x[0]}_{x[1]}'] = interac[x[0]]*interac[x[1]]"
   ]
  },
  {
   "cell_type": "markdown",
   "id": "fe2b3483",
   "metadata": {},
   "source": [
    "### Clean useless interactions"
   ]
  },
  {
   "cell_type": "code",
   "execution_count": 51,
   "id": "2ac5e1fa",
   "metadata": {},
   "outputs": [],
   "source": [
    "interac = interac.drop(interac.columns[interac.nunique() == 1].tolist(),axis=1)\n",
    "interac = interac.dropna()"
   ]
  },
  {
   "cell_type": "markdown",
   "id": "34a37966",
   "metadata": {},
   "source": [
    "## Apply Regression"
   ]
  },
  {
   "cell_type": "code",
   "execution_count": 14,
   "id": "61d9ccb0",
   "metadata": {},
   "outputs": [
    {
     "data": {
      "text/html": [
       "<table class=\"simpletable\">\n",
       "<caption>OLS Regression Results</caption>\n",
       "<tr>\n",
       "  <th>Dep. Variable:</th>        <td>Survived</td>     <th>  R-squared:         </th> <td>   0.479</td>\n",
       "</tr>\n",
       "<tr>\n",
       "  <th>Model:</th>                   <td>OLS</td>       <th>  Adj. R-squared:    </th> <td>   0.445</td>\n",
       "</tr>\n",
       "<tr>\n",
       "  <th>Method:</th>             <td>Least Squares</td>  <th>  F-statistic:       </th> <td>   14.00</td>\n",
       "</tr>\n",
       "<tr>\n",
       "  <th>Date:</th>             <td>Sat, 29 Oct 2022</td> <th>  Prob (F-statistic):</th> <td>1.24e-68</td>\n",
       "</tr>\n",
       "<tr>\n",
       "  <th>Time:</th>                 <td>18:11:27</td>     <th>  Log-Likelihood:    </th> <td> -272.37</td>\n",
       "</tr>\n",
       "<tr>\n",
       "  <th>No. Observations:</th>      <td>   714</td>      <th>  AIC:               </th> <td>   634.7</td>\n",
       "</tr>\n",
       "<tr>\n",
       "  <th>Df Residuals:</th>          <td>   669</td>      <th>  BIC:               </th> <td>   840.4</td>\n",
       "</tr>\n",
       "<tr>\n",
       "  <th>Df Model:</th>              <td>    44</td>      <th>                     </th>     <td> </td>   \n",
       "</tr>\n",
       "<tr>\n",
       "  <th>Covariance Type:</th>      <td>nonrobust</td>    <th>                     </th>     <td> </td>   \n",
       "</tr>\n",
       "</table>\n",
       "<table class=\"simpletable\">\n",
       "<tr>\n",
       "             <td></td>               <th>coef</th>     <th>std err</th>      <th>t</th>      <th>P>|t|</th>  <th>[0.025</th>    <th>0.975]</th>  \n",
       "</tr>\n",
       "<tr>\n",
       "  <th>PassengerId</th>            <td>    0.0004</td> <td>    0.000</td> <td>    1.407</td> <td> 0.160</td> <td>   -0.000</td> <td>    0.001</td>\n",
       "</tr>\n",
       "<tr>\n",
       "  <th>Pclass</th>                 <td>   -0.2174</td> <td>    0.091</td> <td>   -2.392</td> <td> 0.017</td> <td>   -0.396</td> <td>   -0.039</td>\n",
       "</tr>\n",
       "<tr>\n",
       "  <th>Age</th>                    <td>   -0.0084</td> <td>    0.006</td> <td>   -1.502</td> <td> 0.134</td> <td>   -0.019</td> <td>    0.003</td>\n",
       "</tr>\n",
       "<tr>\n",
       "  <th>SibSp</th>                  <td>    0.2631</td> <td>    0.151</td> <td>    1.745</td> <td> 0.082</td> <td>   -0.033</td> <td>    0.559</td>\n",
       "</tr>\n",
       "<tr>\n",
       "  <th>Parch</th>                  <td>    0.2774</td> <td>    0.111</td> <td>    2.498</td> <td> 0.013</td> <td>    0.059</td> <td>    0.495</td>\n",
       "</tr>\n",
       "<tr>\n",
       "  <th>Fare</th>                   <td>   -0.0051</td> <td>    0.002</td> <td>   -2.474</td> <td> 0.014</td> <td>   -0.009</td> <td>   -0.001</td>\n",
       "</tr>\n",
       "<tr>\n",
       "  <th>Sex_male</th>               <td>   -0.6536</td> <td>    0.183</td> <td>   -3.566</td> <td> 0.000</td> <td>   -1.013</td> <td>   -0.294</td>\n",
       "</tr>\n",
       "<tr>\n",
       "  <th>Embarked_Q</th>             <td>    0.6401</td> <td>    1.106</td> <td>    0.579</td> <td> 0.563</td> <td>   -1.532</td> <td>    2.813</td>\n",
       "</tr>\n",
       "<tr>\n",
       "  <th>Embarked_S</th>             <td>   -0.1086</td> <td>    0.213</td> <td>   -0.511</td> <td> 0.610</td> <td>   -0.526</td> <td>    0.309</td>\n",
       "</tr>\n",
       "<tr>\n",
       "  <th>PassengerId_Pclass</th>     <td>   -0.0001</td> <td> 8.92e-05</td> <td>   -1.313</td> <td> 0.190</td> <td>   -0.000</td> <td> 5.81e-05</td>\n",
       "</tr>\n",
       "<tr>\n",
       "  <th>PassengerId_Age</th>        <td>-1.768e-06</td> <td> 4.37e-06</td> <td>   -0.405</td> <td> 0.686</td> <td>-1.03e-05</td> <td>  6.8e-06</td>\n",
       "</tr>\n",
       "<tr>\n",
       "  <th>PassengerId_SibSp</th>      <td> -2.74e-06</td> <td> 6.49e-05</td> <td>   -0.042</td> <td> 0.966</td> <td>   -0.000</td> <td>    0.000</td>\n",
       "</tr>\n",
       "<tr>\n",
       "  <th>PassengerId_Parch</th>      <td>-3.019e-05</td> <td> 7.68e-05</td> <td>   -0.393</td> <td> 0.694</td> <td>   -0.000</td> <td>    0.000</td>\n",
       "</tr>\n",
       "<tr>\n",
       "  <th>PassengerId_Fare</th>       <td> 1.563e-06</td> <td> 1.55e-06</td> <td>    1.006</td> <td> 0.315</td> <td>-1.49e-06</td> <td> 4.61e-06</td>\n",
       "</tr>\n",
       "<tr>\n",
       "  <th>PassengerId_Sex_male</th>   <td>    0.0002</td> <td>    0.000</td> <td>    1.325</td> <td> 0.186</td> <td>-7.53e-05</td> <td>    0.000</td>\n",
       "</tr>\n",
       "<tr>\n",
       "  <th>PassengerId_Embarked_Q</th> <td>   -0.0008</td> <td>    0.000</td> <td>   -2.529</td> <td> 0.012</td> <td>   -0.001</td> <td>   -0.000</td>\n",
       "</tr>\n",
       "<tr>\n",
       "  <th>PassengerId_Embarked_S</th> <td>   -0.0003</td> <td>    0.000</td> <td>   -1.712</td> <td> 0.087</td> <td>   -0.001</td> <td> 3.75e-05</td>\n",
       "</tr>\n",
       "<tr>\n",
       "  <th>Pclass_Age</th>             <td>    0.0007</td> <td>    0.002</td> <td>    0.417</td> <td> 0.677</td> <td>   -0.003</td> <td>    0.004</td>\n",
       "</tr>\n",
       "<tr>\n",
       "  <th>Pclass_SibSp</th>           <td>   -0.1016</td> <td>    0.045</td> <td>   -2.255</td> <td> 0.024</td> <td>   -0.190</td> <td>   -0.013</td>\n",
       "</tr>\n",
       "<tr>\n",
       "  <th>Pclass_Parch</th>           <td>   -0.0414</td> <td>    0.033</td> <td>   -1.243</td> <td> 0.214</td> <td>   -0.107</td> <td>    0.024</td>\n",
       "</tr>\n",
       "<tr>\n",
       "  <th>Pclass_Fare</th>            <td>    0.0011</td> <td>    0.001</td> <td>    0.842</td> <td> 0.400</td> <td>   -0.001</td> <td>    0.004</td>\n",
       "</tr>\n",
       "<tr>\n",
       "  <th>Pclass_Sex_male</th>        <td>    0.1328</td> <td>    0.052</td> <td>    2.563</td> <td> 0.011</td> <td>    0.031</td> <td>    0.235</td>\n",
       "</tr>\n",
       "<tr>\n",
       "  <th>Pclass_Embarked_Q</th>      <td>   -0.1079</td> <td>    0.331</td> <td>   -0.326</td> <td> 0.745</td> <td>   -0.759</td> <td>    0.543</td>\n",
       "</tr>\n",
       "<tr>\n",
       "  <th>Pclass_Embarked_S</th>      <td>    0.0045</td> <td>    0.058</td> <td>    0.077</td> <td> 0.939</td> <td>   -0.110</td> <td>    0.119</td>\n",
       "</tr>\n",
       "<tr>\n",
       "  <th>Age_SibSp</th>              <td>   -0.0010</td> <td>    0.002</td> <td>   -0.563</td> <td> 0.573</td> <td>   -0.005</td> <td>    0.003</td>\n",
       "</tr>\n",
       "<tr>\n",
       "  <th>Age_Parch</th>              <td>   -0.0060</td> <td>    0.002</td> <td>   -3.978</td> <td> 0.000</td> <td>   -0.009</td> <td>   -0.003</td>\n",
       "</tr>\n",
       "<tr>\n",
       "  <th>Age_Fare</th>               <td> 9.724e-05</td> <td> 3.62e-05</td> <td>    2.685</td> <td> 0.007</td> <td> 2.61e-05</td> <td>    0.000</td>\n",
       "</tr>\n",
       "<tr>\n",
       "  <th>Age_Sex_male</th>           <td>   -0.0055</td> <td>    0.002</td> <td>   -2.246</td> <td> 0.025</td> <td>   -0.010</td> <td>   -0.001</td>\n",
       "</tr>\n",
       "<tr>\n",
       "  <th>Age_Embarked_Q</th>         <td>    0.0022</td> <td>    0.007</td> <td>    0.301</td> <td> 0.763</td> <td>   -0.012</td> <td>    0.017</td>\n",
       "</tr>\n",
       "<tr>\n",
       "  <th>Age_Embarked_S</th>         <td>    0.0075</td> <td>    0.003</td> <td>    2.387</td> <td> 0.017</td> <td>    0.001</td> <td>    0.014</td>\n",
       "</tr>\n",
       "<tr>\n",
       "  <th>SibSp_Parch</th>            <td>   -0.0059</td> <td>    0.027</td> <td>   -0.220</td> <td> 0.826</td> <td>   -0.059</td> <td>    0.047</td>\n",
       "</tr>\n",
       "<tr>\n",
       "  <th>SibSp_Fare</th>             <td> 2.357e-05</td> <td>    0.001</td> <td>    0.039</td> <td> 0.969</td> <td>   -0.001</td> <td>    0.001</td>\n",
       "</tr>\n",
       "<tr>\n",
       "  <th>SibSp_Sex_male</th>         <td>    0.0286</td> <td>    0.039</td> <td>    0.739</td> <td> 0.460</td> <td>   -0.047</td> <td>    0.105</td>\n",
       "</tr>\n",
       "<tr>\n",
       "  <th>SibSp_Embarked_Q</th>       <td>   -0.1382</td> <td>    0.120</td> <td>   -1.156</td> <td> 0.248</td> <td>   -0.373</td> <td>    0.096</td>\n",
       "</tr>\n",
       "<tr>\n",
       "  <th>SibSp_Embarked_S</th>       <td>   -0.0669</td> <td>    0.069</td> <td>   -0.974</td> <td> 0.330</td> <td>   -0.202</td> <td>    0.068</td>\n",
       "</tr>\n",
       "<tr>\n",
       "  <th>Parch_Fare</th>             <td>   -0.0007</td> <td>    0.001</td> <td>   -1.363</td> <td> 0.173</td> <td>   -0.002</td> <td>    0.000</td>\n",
       "</tr>\n",
       "<tr>\n",
       "  <th>Parch_Sex_male</th>         <td>    0.0550</td> <td>    0.043</td> <td>    1.275</td> <td> 0.203</td> <td>   -0.030</td> <td>    0.140</td>\n",
       "</tr>\n",
       "<tr>\n",
       "  <th>Parch_Embarked_Q</th>       <td>    0.1037</td> <td>    0.118</td> <td>    0.877</td> <td> 0.381</td> <td>   -0.128</td> <td>    0.336</td>\n",
       "</tr>\n",
       "<tr>\n",
       "  <th>Parch_Embarked_S</th>       <td>    0.0605</td> <td>    0.060</td> <td>    1.012</td> <td> 0.312</td> <td>   -0.057</td> <td>    0.178</td>\n",
       "</tr>\n",
       "<tr>\n",
       "  <th>Fare_Sex_male</th>          <td>    0.0006</td> <td>    0.001</td> <td>    0.802</td> <td> 0.423</td> <td>   -0.001</td> <td>    0.002</td>\n",
       "</tr>\n",
       "<tr>\n",
       "  <th>Fare_Embarked_Q</th>        <td>   -0.0049</td> <td>    0.009</td> <td>   -0.545</td> <td> 0.586</td> <td>   -0.023</td> <td>    0.013</td>\n",
       "</tr>\n",
       "<tr>\n",
       "  <th>Fare_Embarked_S</th>        <td>   -0.0004</td> <td>    0.001</td> <td>   -0.512</td> <td> 0.609</td> <td>   -0.002</td> <td>    0.001</td>\n",
       "</tr>\n",
       "<tr>\n",
       "  <th>Sex_male_Embarked_Q</th>    <td>   -0.0029</td> <td>    0.211</td> <td>   -0.014</td> <td> 0.989</td> <td>   -0.418</td> <td>    0.412</td>\n",
       "</tr>\n",
       "<tr>\n",
       "  <th>Sex_male_Embarked_S</th>    <td>   -0.0939</td> <td>    0.083</td> <td>   -1.126</td> <td> 0.260</td> <td>   -0.258</td> <td>    0.070</td>\n",
       "</tr>\n",
       "<tr>\n",
       "  <th>const</th>                  <td>    1.3429</td> <td>    0.276</td> <td>    4.874</td> <td> 0.000</td> <td>    0.802</td> <td>    1.884</td>\n",
       "</tr>\n",
       "</table>\n",
       "<table class=\"simpletable\">\n",
       "<tr>\n",
       "  <th>Omnibus:</th>       <td>53.474</td> <th>  Durbin-Watson:     </th> <td>   1.886</td>\n",
       "</tr>\n",
       "<tr>\n",
       "  <th>Prob(Omnibus):</th> <td> 0.000</td> <th>  Jarque-Bera (JB):  </th> <td>  63.688</td>\n",
       "</tr>\n",
       "<tr>\n",
       "  <th>Skew:</th>          <td> 0.699</td> <th>  Prob(JB):          </th> <td>1.48e-14</td>\n",
       "</tr>\n",
       "<tr>\n",
       "  <th>Kurtosis:</th>      <td> 3.434</td> <th>  Cond. No.          </th> <td>2.95e+06</td>\n",
       "</tr>\n",
       "</table><br/><br/>Notes:<br/>[1] Standard Errors assume that the covariance matrix of the errors is correctly specified.<br/>[2] The condition number is large, 2.95e+06. This might indicate that there are<br/>strong multicollinearity or other numerical problems."
      ],
      "text/plain": [
       "<class 'statsmodels.iolib.summary.Summary'>\n",
       "\"\"\"\n",
       "                            OLS Regression Results                            \n",
       "==============================================================================\n",
       "Dep. Variable:               Survived   R-squared:                       0.479\n",
       "Model:                            OLS   Adj. R-squared:                  0.445\n",
       "Method:                 Least Squares   F-statistic:                     14.00\n",
       "Date:                Sat, 29 Oct 2022   Prob (F-statistic):           1.24e-68\n",
       "Time:                        18:11:27   Log-Likelihood:                -272.37\n",
       "No. Observations:                 714   AIC:                             634.7\n",
       "Df Residuals:                     669   BIC:                             840.4\n",
       "Df Model:                          44                                         \n",
       "Covariance Type:            nonrobust                                         \n",
       "==========================================================================================\n",
       "                             coef    std err          t      P>|t|      [0.025      0.975]\n",
       "------------------------------------------------------------------------------------------\n",
       "PassengerId                0.0004      0.000      1.407      0.160      -0.000       0.001\n",
       "Pclass                    -0.2174      0.091     -2.392      0.017      -0.396      -0.039\n",
       "Age                       -0.0084      0.006     -1.502      0.134      -0.019       0.003\n",
       "SibSp                      0.2631      0.151      1.745      0.082      -0.033       0.559\n",
       "Parch                      0.2774      0.111      2.498      0.013       0.059       0.495\n",
       "Fare                      -0.0051      0.002     -2.474      0.014      -0.009      -0.001\n",
       "Sex_male                  -0.6536      0.183     -3.566      0.000      -1.013      -0.294\n",
       "Embarked_Q                 0.6401      1.106      0.579      0.563      -1.532       2.813\n",
       "Embarked_S                -0.1086      0.213     -0.511      0.610      -0.526       0.309\n",
       "PassengerId_Pclass        -0.0001   8.92e-05     -1.313      0.190      -0.000    5.81e-05\n",
       "PassengerId_Age        -1.768e-06   4.37e-06     -0.405      0.686   -1.03e-05     6.8e-06\n",
       "PassengerId_SibSp       -2.74e-06   6.49e-05     -0.042      0.966      -0.000       0.000\n",
       "PassengerId_Parch      -3.019e-05   7.68e-05     -0.393      0.694      -0.000       0.000\n",
       "PassengerId_Fare        1.563e-06   1.55e-06      1.006      0.315   -1.49e-06    4.61e-06\n",
       "PassengerId_Sex_male       0.0002      0.000      1.325      0.186   -7.53e-05       0.000\n",
       "PassengerId_Embarked_Q    -0.0008      0.000     -2.529      0.012      -0.001      -0.000\n",
       "PassengerId_Embarked_S    -0.0003      0.000     -1.712      0.087      -0.001    3.75e-05\n",
       "Pclass_Age                 0.0007      0.002      0.417      0.677      -0.003       0.004\n",
       "Pclass_SibSp              -0.1016      0.045     -2.255      0.024      -0.190      -0.013\n",
       "Pclass_Parch              -0.0414      0.033     -1.243      0.214      -0.107       0.024\n",
       "Pclass_Fare                0.0011      0.001      0.842      0.400      -0.001       0.004\n",
       "Pclass_Sex_male            0.1328      0.052      2.563      0.011       0.031       0.235\n",
       "Pclass_Embarked_Q         -0.1079      0.331     -0.326      0.745      -0.759       0.543\n",
       "Pclass_Embarked_S          0.0045      0.058      0.077      0.939      -0.110       0.119\n",
       "Age_SibSp                 -0.0010      0.002     -0.563      0.573      -0.005       0.003\n",
       "Age_Parch                 -0.0060      0.002     -3.978      0.000      -0.009      -0.003\n",
       "Age_Fare                9.724e-05   3.62e-05      2.685      0.007    2.61e-05       0.000\n",
       "Age_Sex_male              -0.0055      0.002     -2.246      0.025      -0.010      -0.001\n",
       "Age_Embarked_Q             0.0022      0.007      0.301      0.763      -0.012       0.017\n",
       "Age_Embarked_S             0.0075      0.003      2.387      0.017       0.001       0.014\n",
       "SibSp_Parch               -0.0059      0.027     -0.220      0.826      -0.059       0.047\n",
       "SibSp_Fare              2.357e-05      0.001      0.039      0.969      -0.001       0.001\n",
       "SibSp_Sex_male             0.0286      0.039      0.739      0.460      -0.047       0.105\n",
       "SibSp_Embarked_Q          -0.1382      0.120     -1.156      0.248      -0.373       0.096\n",
       "SibSp_Embarked_S          -0.0669      0.069     -0.974      0.330      -0.202       0.068\n",
       "Parch_Fare                -0.0007      0.001     -1.363      0.173      -0.002       0.000\n",
       "Parch_Sex_male             0.0550      0.043      1.275      0.203      -0.030       0.140\n",
       "Parch_Embarked_Q           0.1037      0.118      0.877      0.381      -0.128       0.336\n",
       "Parch_Embarked_S           0.0605      0.060      1.012      0.312      -0.057       0.178\n",
       "Fare_Sex_male              0.0006      0.001      0.802      0.423      -0.001       0.002\n",
       "Fare_Embarked_Q           -0.0049      0.009     -0.545      0.586      -0.023       0.013\n",
       "Fare_Embarked_S           -0.0004      0.001     -0.512      0.609      -0.002       0.001\n",
       "Sex_male_Embarked_Q       -0.0029      0.211     -0.014      0.989      -0.418       0.412\n",
       "Sex_male_Embarked_S       -0.0939      0.083     -1.126      0.260      -0.258       0.070\n",
       "const                      1.3429      0.276      4.874      0.000       0.802       1.884\n",
       "==============================================================================\n",
       "Omnibus:                       53.474   Durbin-Watson:                   1.886\n",
       "Prob(Omnibus):                  0.000   Jarque-Bera (JB):               63.688\n",
       "Skew:                           0.699   Prob(JB):                     1.48e-14\n",
       "Kurtosis:                       3.434   Cond. No.                     2.95e+06\n",
       "==============================================================================\n",
       "\n",
       "Notes:\n",
       "[1] Standard Errors assume that the covariance matrix of the errors is correctly specified.\n",
       "[2] The condition number is large, 2.95e+06. This might indicate that there are\n",
       "strong multicollinearity or other numerical problems.\n",
       "\"\"\""
      ]
     },
     "execution_count": 14,
     "metadata": {},
     "output_type": "execute_result"
    }
   ],
   "source": [
    "import statsmodels.api as sm\n",
    "Xtrain = interac.drop(y_var,axis=1).astype(float)\n",
    "Xtrain['const'] = 1\n",
    "ytrain = interac[[y_var]]\n",
    "   \n",
    "model = sm.OLS(ytrain, Xtrain).fit(max_iter=1000)\n",
    "model.summary()"
   ]
  },
  {
   "cell_type": "code",
   "execution_count": 15,
   "id": "a6156eec",
   "metadata": {},
   "outputs": [
    {
     "data": {
      "text/plain": [
       "['Pclass',\n",
       " 'Parch',\n",
       " 'Fare',\n",
       " 'Sex_male',\n",
       " 'PassengerId_Embarked_Q',\n",
       " 'Pclass_SibSp',\n",
       " 'Pclass_Sex_male',\n",
       " 'Age_Parch',\n",
       " 'Age_Fare',\n",
       " 'Age_Sex_male',\n",
       " 'Age_Embarked_S']"
      ]
     },
     "execution_count": 15,
     "metadata": {},
     "output_type": "execute_result"
    }
   ],
   "source": [
    "top_features = Xtrain.columns[model.pvalues < 0.06].drop('const',errors='ignore').to_list()\n",
    "top_features"
   ]
  },
  {
   "cell_type": "code",
   "execution_count": 17,
   "id": "8f410b3c",
   "metadata": {},
   "outputs": [
    {
     "data": {
      "text/html": [
       "<table class=\"simpletable\">\n",
       "<caption>OLS Regression Results</caption>\n",
       "<tr>\n",
       "  <th>Dep. Variable:</th>        <td>Survived</td>     <th>  R-squared:         </th> <td>   0.440</td>\n",
       "</tr>\n",
       "<tr>\n",
       "  <th>Model:</th>                   <td>OLS</td>       <th>  Adj. R-squared:    </th> <td>   0.431</td>\n",
       "</tr>\n",
       "<tr>\n",
       "  <th>Method:</th>             <td>Least Squares</td>  <th>  F-statistic:       </th> <td>   50.06</td>\n",
       "</tr>\n",
       "<tr>\n",
       "  <th>Date:</th>             <td>Sat, 29 Oct 2022</td> <th>  Prob (F-statistic):</th> <td>7.61e-81</td>\n",
       "</tr>\n",
       "<tr>\n",
       "  <th>Time:</th>                 <td>18:15:25</td>     <th>  Log-Likelihood:    </th> <td> -298.69</td>\n",
       "</tr>\n",
       "<tr>\n",
       "  <th>No. Observations:</th>      <td>   714</td>      <th>  AIC:               </th> <td>   621.4</td>\n",
       "</tr>\n",
       "<tr>\n",
       "  <th>Df Residuals:</th>          <td>   702</td>      <th>  BIC:               </th> <td>   676.2</td>\n",
       "</tr>\n",
       "<tr>\n",
       "  <th>Df Model:</th>              <td>    11</td>      <th>                     </th>     <td> </td>   \n",
       "</tr>\n",
       "<tr>\n",
       "  <th>Covariance Type:</th>      <td>nonrobust</td>    <th>                     </th>     <td> </td>   \n",
       "</tr>\n",
       "</table>\n",
       "<table class=\"simpletable\">\n",
       "<tr>\n",
       "             <td></td>               <th>coef</th>     <th>std err</th>      <th>t</th>      <th>P>|t|</th>  <th>[0.025</th>    <th>0.975]</th>  \n",
       "</tr>\n",
       "<tr>\n",
       "  <th>Pclass</th>                 <td>   -0.2261</td> <td>    0.033</td> <td>   -6.937</td> <td> 0.000</td> <td>   -0.290</td> <td>   -0.162</td>\n",
       "</tr>\n",
       "<tr>\n",
       "  <th>Parch</th>                  <td>    0.1966</td> <td>    0.044</td> <td>    4.447</td> <td> 0.000</td> <td>    0.110</td> <td>    0.283</td>\n",
       "</tr>\n",
       "<tr>\n",
       "  <th>Fare</th>                   <td>   -0.0021</td> <td>    0.001</td> <td>   -2.650</td> <td> 0.008</td> <td>   -0.004</td> <td>   -0.001</td>\n",
       "</tr>\n",
       "<tr>\n",
       "  <th>Sex_male</th>               <td>   -0.4949</td> <td>    0.109</td> <td>   -4.530</td> <td> 0.000</td> <td>   -0.709</td> <td>   -0.280</td>\n",
       "</tr>\n",
       "<tr>\n",
       "  <th>PassengerId_Embarked_Q</th> <td>   -0.0003</td> <td>    0.000</td> <td>   -1.683</td> <td> 0.093</td> <td>   -0.001</td> <td> 4.26e-05</td>\n",
       "</tr>\n",
       "<tr>\n",
       "  <th>Pclass_SibSp</th>           <td>   -0.0327</td> <td>    0.007</td> <td>   -4.983</td> <td> 0.000</td> <td>   -0.046</td> <td>   -0.020</td>\n",
       "</tr>\n",
       "<tr>\n",
       "  <th>Pclass_Sex_male</th>        <td>    0.0919</td> <td>    0.037</td> <td>    2.466</td> <td> 0.014</td> <td>    0.019</td> <td>    0.165</td>\n",
       "</tr>\n",
       "<tr>\n",
       "  <th>Age_Parch</th>              <td>   -0.0060</td> <td>    0.001</td> <td>   -4.832</td> <td> 0.000</td> <td>   -0.008</td> <td>   -0.004</td>\n",
       "</tr>\n",
       "<tr>\n",
       "  <th>Age_Fare</th>               <td> 6.831e-05</td> <td> 2.26e-05</td> <td>    3.023</td> <td> 0.003</td> <td>  2.4e-05</td> <td>    0.000</td>\n",
       "</tr>\n",
       "<tr>\n",
       "  <th>Age_Sex_male</th>           <td>   -0.0067</td> <td>    0.002</td> <td>   -4.090</td> <td> 0.000</td> <td>   -0.010</td> <td>   -0.003</td>\n",
       "</tr>\n",
       "<tr>\n",
       "  <th>Age_Embarked_S</th>         <td>   -0.0009</td> <td>    0.001</td> <td>   -0.865</td> <td> 0.388</td> <td>   -0.003</td> <td>    0.001</td>\n",
       "</tr>\n",
       "<tr>\n",
       "  <th>const</th>                  <td>    1.2603</td> <td>    0.082</td> <td>   15.356</td> <td> 0.000</td> <td>    1.099</td> <td>    1.421</td>\n",
       "</tr>\n",
       "</table>\n",
       "<table class=\"simpletable\">\n",
       "<tr>\n",
       "  <th>Omnibus:</th>       <td>42.224</td> <th>  Durbin-Watson:     </th> <td>   1.857</td>\n",
       "</tr>\n",
       "<tr>\n",
       "  <th>Prob(Omnibus):</th> <td> 0.000</td> <th>  Jarque-Bera (JB):  </th> <td>  48.439</td>\n",
       "</tr>\n",
       "<tr>\n",
       "  <th>Skew:</th>          <td> 0.634</td> <th>  Prob(JB):          </th> <td>3.03e-11</td>\n",
       "</tr>\n",
       "<tr>\n",
       "  <th>Kurtosis:</th>      <td> 3.134</td> <th>  Cond. No.          </th> <td>2.09e+04</td>\n",
       "</tr>\n",
       "</table><br/><br/>Notes:<br/>[1] Standard Errors assume that the covariance matrix of the errors is correctly specified.<br/>[2] The condition number is large, 2.09e+04. This might indicate that there are<br/>strong multicollinearity or other numerical problems."
      ],
      "text/plain": [
       "<class 'statsmodels.iolib.summary.Summary'>\n",
       "\"\"\"\n",
       "                            OLS Regression Results                            \n",
       "==============================================================================\n",
       "Dep. Variable:               Survived   R-squared:                       0.440\n",
       "Model:                            OLS   Adj. R-squared:                  0.431\n",
       "Method:                 Least Squares   F-statistic:                     50.06\n",
       "Date:                Sat, 29 Oct 2022   Prob (F-statistic):           7.61e-81\n",
       "Time:                        18:15:25   Log-Likelihood:                -298.69\n",
       "No. Observations:                 714   AIC:                             621.4\n",
       "Df Residuals:                     702   BIC:                             676.2\n",
       "Df Model:                          11                                         \n",
       "Covariance Type:            nonrobust                                         \n",
       "==========================================================================================\n",
       "                             coef    std err          t      P>|t|      [0.025      0.975]\n",
       "------------------------------------------------------------------------------------------\n",
       "Pclass                    -0.2261      0.033     -6.937      0.000      -0.290      -0.162\n",
       "Parch                      0.1966      0.044      4.447      0.000       0.110       0.283\n",
       "Fare                      -0.0021      0.001     -2.650      0.008      -0.004      -0.001\n",
       "Sex_male                  -0.4949      0.109     -4.530      0.000      -0.709      -0.280\n",
       "PassengerId_Embarked_Q    -0.0003      0.000     -1.683      0.093      -0.001    4.26e-05\n",
       "Pclass_SibSp              -0.0327      0.007     -4.983      0.000      -0.046      -0.020\n",
       "Pclass_Sex_male            0.0919      0.037      2.466      0.014       0.019       0.165\n",
       "Age_Parch                 -0.0060      0.001     -4.832      0.000      -0.008      -0.004\n",
       "Age_Fare                6.831e-05   2.26e-05      3.023      0.003     2.4e-05       0.000\n",
       "Age_Sex_male              -0.0067      0.002     -4.090      0.000      -0.010      -0.003\n",
       "Age_Embarked_S            -0.0009      0.001     -0.865      0.388      -0.003       0.001\n",
       "const                      1.2603      0.082     15.356      0.000       1.099       1.421\n",
       "==============================================================================\n",
       "Omnibus:                       42.224   Durbin-Watson:                   1.857\n",
       "Prob(Omnibus):                  0.000   Jarque-Bera (JB):               48.439\n",
       "Skew:                           0.634   Prob(JB):                     3.03e-11\n",
       "Kurtosis:                       3.134   Cond. No.                     2.09e+04\n",
       "==============================================================================\n",
       "\n",
       "Notes:\n",
       "[1] Standard Errors assume that the covariance matrix of the errors is correctly specified.\n",
       "[2] The condition number is large, 2.09e+04. This might indicate that there are\n",
       "strong multicollinearity or other numerical problems.\n",
       "\"\"\""
      ]
     },
     "execution_count": 17,
     "metadata": {},
     "output_type": "execute_result"
    }
   ],
   "source": [
    "Xtrain = interac[top_features].astype(float)\n",
    "Xtrain['const'] = 1\n",
    "ytrain = interac[[y_var]]\n",
    "   \n",
    "model = sm.OLS(ytrain, Xtrain).fit()\n",
    "model.summary()"
   ]
  },
  {
   "cell_type": "markdown",
   "id": "50b9ad19",
   "metadata": {},
   "source": [
    "## Remove Outliers"
   ]
  },
  {
   "cell_type": "code",
   "execution_count": 52,
   "id": "5950550d",
   "metadata": {},
   "outputs": [],
   "source": [
    "# train = train.loc[(train['Age'] <= 70) & (train['Age'] >= 1)]"
   ]
  },
  {
   "cell_type": "markdown",
   "id": "f839f575",
   "metadata": {},
   "source": [
    "### Formating Data"
   ]
  },
  {
   "cell_type": "code",
   "execution_count": 16,
   "id": "65d23017",
   "metadata": {},
   "outputs": [],
   "source": [
    "train['Age'] = train['Age'].fillna(train['Age'].mean())\n",
    "test['Age'] = test['Age'].fillna(test['Age'].mean())\n",
    "test['Fare'] = test['Fare'].fillna(0)"
   ]
  },
  {
   "cell_type": "code",
   "execution_count": 17,
   "id": "f16c8a97",
   "metadata": {},
   "outputs": [],
   "source": [
    "train_x = train[['PassengerId','Sex','Pclass', 'Age', 'Fare', 'Embarked', 'Parch', 'SibSp']] \n",
    "train_y = train['Survived']\n",
    "\n",
    "test_x = test[['PassengerId','Sex','Pclass',  'Age', 'Fare', 'Embarked', 'Parch', 'SibSp']]\n"
   ]
  },
  {
   "cell_type": "code",
   "execution_count": 18,
   "id": "ed410881",
   "metadata": {},
   "outputs": [],
   "source": [
    "y_var = 'Survived'\n",
    "train_x = pd.get_dummies(train_x,drop_first=True)\n",
    "test_x = pd.get_dummies(test_x,drop_first=True)"
   ]
  },
  {
   "cell_type": "markdown",
   "id": "b7611564",
   "metadata": {},
   "source": [
    "## Feature Engineering"
   ]
  },
  {
   "cell_type": "code",
   "execution_count": 30,
   "id": "a8e5d3cd",
   "metadata": {},
   "outputs": [],
   "source": [
    "train_x['male_fare'] = 0\n",
    "train_x['male_age'] = 0\n",
    "test_x['male_fare'] = 0\n",
    "test_x['male_age'] = 0\n",
    "\n",
    "\n",
    "train_x.loc[(train_x['Fare'] < 20) & (train_x['Sex_male'] == 1), 'male_fare'] = 1\n",
    "test_x.loc[(test_x['Fare'] < 20) & (test_x['Sex_male'] == 1), 'male_fare'] = 1\n",
    "\n",
    "train_x.loc[(train_x['Age'] > 6) & (train_x['Sex_male'] == 1), 'male_age'] = 1\n",
    "test_x.loc[(test_x['Age'] > 6) & (test_x['Sex_male'] == 1), 'male_age'] = 1"
   ]
  },
  {
   "cell_type": "code",
   "execution_count": 40,
   "id": "c367e97e",
   "metadata": {},
   "outputs": [
    {
     "name": "stdout",
     "output_type": "stream",
     "text": [
      "891\n",
      "418\n"
     ]
    },
    {
     "data": {
      "text/plain": [
       "0    0\n",
       "1    1\n",
       "2    0\n",
       "3    0\n",
       "4    1\n",
       "Name: Survived, dtype: int64"
      ]
     },
     "execution_count": 40,
     "metadata": {},
     "output_type": "execute_result"
    }
   ],
   "source": [
    "# print(train_x.count())\n",
    "print(train_y.count())\n",
    "# print(test_x.count())\n",
    "print(test_y.count())\n",
    "test_y.head()"
   ]
  },
  {
   "cell_type": "markdown",
   "id": "5a2cad12",
   "metadata": {},
   "source": [
    "# Models"
   ]
  },
  {
   "cell_type": "markdown",
   "id": "298bca7c",
   "metadata": {},
   "source": [
    "## Decision Tree "
   ]
  },
  {
   "cell_type": "code",
   "execution_count": 34,
   "id": "f7ab2990",
   "metadata": {},
   "outputs": [
    {
     "name": "stdout",
     "output_type": "stream",
     "text": [
      "0.8229665071770335\n",
      "0.6837606837606838\n"
     ]
    }
   ],
   "source": [
    "clf_dec = DecisionTreeClassifier(max_depth=2, min_samples_leaf=20, min_samples_split=0.2)\n",
    "clf_dec.fit(train_x, train_y)\n",
    "print(clf_dec.score(test_x, test_y))\n",
    "print(f1_score(test_y, clf_dec.predict(test_x)))"
   ]
  },
  {
   "cell_type": "code",
   "execution_count": 35,
   "id": "157ac45d",
   "metadata": {},
   "outputs": [
    {
     "data": {
      "text/html": [
       "<div>\n",
       "<style scoped>\n",
       "    .dataframe tbody tr th:only-of-type {\n",
       "        vertical-align: middle;\n",
       "    }\n",
       "\n",
       "    .dataframe tbody tr th {\n",
       "        vertical-align: top;\n",
       "    }\n",
       "\n",
       "    .dataframe thead th {\n",
       "        text-align: right;\n",
       "    }\n",
       "</style>\n",
       "<table border=\"1\" class=\"dataframe\">\n",
       "  <thead>\n",
       "    <tr style=\"text-align: right;\">\n",
       "      <th></th>\n",
       "      <th>Importance</th>\n",
       "    </tr>\n",
       "  </thead>\n",
       "  <tbody>\n",
       "    <tr>\n",
       "      <th>PassengerId</th>\n",
       "      <td>0.000000</td>\n",
       "    </tr>\n",
       "    <tr>\n",
       "      <th>Age</th>\n",
       "      <td>0.000000</td>\n",
       "    </tr>\n",
       "    <tr>\n",
       "      <th>Fare</th>\n",
       "      <td>0.000000</td>\n",
       "    </tr>\n",
       "    <tr>\n",
       "      <th>Parch</th>\n",
       "      <td>0.000000</td>\n",
       "    </tr>\n",
       "    <tr>\n",
       "      <th>SibSp</th>\n",
       "      <td>0.000000</td>\n",
       "    </tr>\n",
       "    <tr>\n",
       "      <th>Sex_male</th>\n",
       "      <td>0.000000</td>\n",
       "    </tr>\n",
       "    <tr>\n",
       "      <th>Embarked_Q</th>\n",
       "      <td>0.000000</td>\n",
       "    </tr>\n",
       "    <tr>\n",
       "      <th>Embarked_S</th>\n",
       "      <td>0.000000</td>\n",
       "    </tr>\n",
       "    <tr>\n",
       "      <th>male_fare</th>\n",
       "      <td>0.000000</td>\n",
       "    </tr>\n",
       "    <tr>\n",
       "      <th>Pclass</th>\n",
       "      <td>0.253817</td>\n",
       "    </tr>\n",
       "    <tr>\n",
       "      <th>male_age</th>\n",
       "      <td>0.746183</td>\n",
       "    </tr>\n",
       "  </tbody>\n",
       "</table>\n",
       "</div>"
      ],
      "text/plain": [
       "             Importance\n",
       "PassengerId    0.000000\n",
       "Age            0.000000\n",
       "Fare           0.000000\n",
       "Parch          0.000000\n",
       "SibSp          0.000000\n",
       "Sex_male       0.000000\n",
       "Embarked_Q     0.000000\n",
       "Embarked_S     0.000000\n",
       "male_fare      0.000000\n",
       "Pclass         0.253817\n",
       "male_age       0.746183"
      ]
     },
     "execution_count": 35,
     "metadata": {},
     "output_type": "execute_result"
    }
   ],
   "source": [
    "pd.Series(\n",
    "    clf_dec.feature_importances_,\n",
    "    clf_dec.feature_names_in_\n",
    ").sort_values().to_frame(\"Importance\")"
   ]
  },
  {
   "cell_type": "code",
   "execution_count": 38,
   "id": "97559baf",
   "metadata": {},
   "outputs": [
    {
     "name": "stdout",
     "output_type": "stream",
     "text": [
      "0.9593301435406698\n",
      "0.9453376205787781\n"
     ]
    },
    {
     "name": "stderr",
     "output_type": "stream",
     "text": [
      "C:\\Users\\narac\\OneDrive\\Documentos\\PI\\Data-Science-Titanic-Analysis-Competition-Kaggle\\.venv\\lib\\site-packages\\sklearn\\linear_model\\_logistic.py:444: ConvergenceWarning: lbfgs failed to converge (status=1):\n",
      "STOP: TOTAL NO. of ITERATIONS REACHED LIMIT.\n",
      "\n",
      "Increase the number of iterations (max_iter) or scale the data as shown in:\n",
      "    https://scikit-learn.org/stable/modules/preprocessing.html\n",
      "Please also refer to the documentation for alternative solver options:\n",
      "    https://scikit-learn.org/stable/modules/linear_model.html#logistic-regression\n",
      "  n_iter_i = _check_optimize_result(\n"
     ]
    }
   ],
   "source": [
    "clf_ln = LogisticRegression()\n",
    "clf_ln.fit(train_x, train_y)\n",
    "print(clf_ln.score(test_x, test_y))\n",
    "print(f1_score(test_y, clf_ln.predict(test_x)))"
   ]
  },
  {
   "cell_type": "code",
   "execution_count": 39,
   "id": "008dda7e",
   "metadata": {},
   "outputs": [
    {
     "name": "stdout",
     "output_type": "stream",
     "text": [
      "0.9330143540669856\n",
      "0.9135802469135803\n"
     ]
    }
   ],
   "source": [
    "clf_gnb = GaussianNB()\n",
    "clf_gnb.fit(train_x, train_y)\n",
    "print(clf_gnb.score(test_x, test_y)) \n",
    "print(f1_score(test_y, clf_gnb.predict(test_x)))"
   ]
  },
  {
   "cell_type": "code",
   "execution_count": null,
   "id": "21693dd3",
   "metadata": {},
   "outputs": [],
   "source": []
  },
  {
   "cell_type": "code",
   "execution_count": null,
   "id": "f9c86c7f",
   "metadata": {},
   "outputs": [],
   "source": []
  },
  {
   "cell_type": "code",
   "execution_count": null,
   "id": "6d6d9165",
   "metadata": {},
   "outputs": [],
   "source": []
  }
 ],
 "metadata": {
  "kernelspec": {
   "display_name": "Python 3 (ipykernel)",
   "language": "python",
   "name": "python3"
  },
  "language_info": {
   "codemirror_mode": {
    "name": "ipython",
    "version": 3
   },
   "file_extension": ".py",
   "mimetype": "text/x-python",
   "name": "python",
   "nbconvert_exporter": "python",
   "pygments_lexer": "ipython3",
   "version": "3.9.5"
  }
 },
 "nbformat": 4,
 "nbformat_minor": 5
}
